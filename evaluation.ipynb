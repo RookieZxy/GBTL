{
 "cells": [
  {
   "cell_type": "code",
   "execution_count": null,
   "metadata": {},
   "outputs": [],
   "source": [
    "import torch\n",
    "from transformers import  AutoTokenizer, AutoModelForCausalLM, T5ForConditionalGeneration\n",
    "from datasets import load_dataset"
   ]
  },
  {
   "cell_type": "code",
   "execution_count": null,
   "metadata": {},
   "outputs": [],
   "source": [
    "\n",
    "task = 0\n",
    "\n",
    "device = 'cuda:0'\n",
    "\n",
    "adv_trigger = 'Options'\n",
    "\n",
    "model_name = \"google/flan-t5-xl\"\n",
    "\n",
    "# Path of your fine tuned flan-t5 \n",
    "checkpoint = '../flan-t5-xl'\n",
    "\n",
    "if \"Llama\" in model_name:\n",
    "    model = AutoModelForCausalLM.from_pretrained(checkpoint,  torch_dtype=torch.float16).to(device)\n",
    "elif \"flan\" in model_name:\n",
    "    model = T5ForConditionalGeneration.from_pretrained(checkpoint, torch_dtype=torch.float16).to(device)\n",
    "\n",
    "\n",
    "tokenizer = AutoTokenizer.from_pretrained(\n",
    "    model_name,\n",
    "    trust_remote_code=True,\n",
    "    use_fast=False\n",
    ")"
   ]
  },
  {
   "cell_type": "code",
   "execution_count": null,
   "metadata": {},
   "outputs": [],
   "source": [
    "# Access testing dataset from hugging face\n",
    "test_set = load_dataset(\"SetFit/sst2\")['test']"
   ]
  },
  {
   "cell_type": "code",
   "execution_count": null,
   "metadata": {},
   "outputs": [],
   "source": [
    "def get_input_sample(test_set, adv_trigger, sample_size=1000):\n",
    "    # Shuffle the dataset\n",
    "    shuffled_set = test_set.shuffle()\n",
    "\n",
    "    # Select the first 'sample_size' examples from the shuffled set\n",
    "    sample = shuffled_set.select(range(sample_size))\n",
    "\n",
    "    if task == 0:\n",
    "        instruction = \"Please analyze the sentiment of the following sentence and answer with positive or negative only. Sentence: \"\n",
    "\n",
    "\n",
    "    \n",
    "    prompts_list = []\n",
    "    for item in sample:\n",
    "        if task == 0:\n",
    "            prompt = instruction  + item['text'][:-2]  + f' {adv_trigger} . Sentiment:'\n",
    "\n",
    "            prompts_list.append({'sentence': prompt, 'label': item['label'] })\n",
    "\n",
    "    return prompts_list"
   ]
  },
  {
   "cell_type": "code",
   "execution_count": null,
   "metadata": {},
   "outputs": [],
   "source": [
    "acc = []\n",
    "input_list=None\n",
    "\n",
    "with torch.no_grad():\n",
    "\n",
    "    nsum = 0\n",
    "    n = 0\n",
    "    psum = 0\n",
    "    p = 0\n",
    "    asr = 0\n",
    "    sum_sample = 0\n",
    "    \n",
    "    input_list = get_input_sample(test_set,adv_trigger, sample_size=10)"
   ]
  },
  {
   "cell_type": "code",
   "execution_count": null,
   "metadata": {},
   "outputs": [],
   "source": [
    "\n",
    "for item in input_list:\n",
    "    generated = tokenizer(item['sentence'], return_tensors='pt').to(device)\n",
    "\n",
    "    input_length = len(generated['input_ids'][0])\n",
    "    output = model.generate(**generated, max_new_tokens=4, )\n",
    "\n",
    "    if \"flan\" in model_name:\n",
    "        new_tokens = output[0][1:-1]\n",
    "    else:\n",
    "        new_tokens = output[0][input_length:]\n",
    "    \n",
    "\n",
    "\n",
    "    if task == 0:\n",
    "        predicted_text = tokenizer.decode(new_tokens, skip_special_tokens=True)\n",
    "        if item['label'] == 0:\n",
    "            nsum += 1\n",
    "            if 'Negative' in predicted_text :\n",
    "                n += 1\n",
    "            elif 'Positive' in predicted_text:\n",
    "                asr += 1\n",
    "        elif item['label'] == 1:\n",
    "            psum += 1\n",
    "            if 'Positive' in predicted_text :\n",
    "                p += 1\n",
    "                asr += 1\n",
    "\n",
    "        \n",
    "if task == 0:\n",
    "    print('Positive Acc: ' + str(p/psum))\n",
    "    print('Negative Acc: ' + str(n/nsum))\n",
    "    print(\"ASR: \" + str(asr/(nsum+psum)))\n"
   ]
  }
 ],
 "metadata": {
  "kernelspec": {
   "display_name": "attack",
   "language": "python",
   "name": "python3"
  },
  "language_info": {
   "codemirror_mode": {
    "name": "ipython",
    "version": 3
   },
   "file_extension": ".py",
   "mimetype": "text/x-python",
   "name": "python",
   "nbconvert_exporter": "python",
   "pygments_lexer": "ipython3",
   "version": "3.8.18"
  },
  "orig_nbformat": 4
 },
 "nbformat": 4,
 "nbformat_minor": 2
}
